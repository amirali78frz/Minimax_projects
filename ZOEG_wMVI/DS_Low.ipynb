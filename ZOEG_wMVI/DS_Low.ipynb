{
 "cells": [
  {
   "cell_type": "code",
   "execution_count": 1,
   "metadata": {},
   "outputs": [],
   "source": [
    "import numpy as np\n",
    "from matplotlib import pyplot as plt\n",
    "from mpl_toolkits.mplot3d import Axes3D\n",
    "import random\n",
    "from scipy.optimize import minimize\n",
    "import time"
   ]
  },
  {
   "cell_type": "markdown",
   "metadata": {},
   "source": [
    "Implementing the DS algorithm"
   ]
  },
  {
   "cell_type": "code",
   "execution_count": 4,
   "metadata": {},
   "outputs": [],
   "source": [
    "\n",
    "def generate_points(x_k, sigma_k):\n",
    "    n= len(x_k)\n",
    "    I_n = np.eye(n)\n",
    "    n_I_n = -np.eye(n)\n",
    "    D = np.concatenate((I_n, n_I_n), axis=0)\n",
    "    \n",
    "    points = []\n",
    "    for d_i in D:\n",
    "        x_i = x_k + sigma_k * d_i\n",
    "        points.append(x_i)\n",
    "    \n",
    "    return np.array(points)\n",
    "\n",
    "\n",
    "def choose_xn(points, func):\n",
    "\n",
    "    fk_values = [func(xi) for xi in points]\n",
    "    min_index = np.argmin(fk_values)\n",
    "    min_f = np.min(fk_values)\n",
    "    x0 = points[min_index]\n",
    "    \n",
    "    return x0,min_f,len(fk_values)\n",
    "\n",
    "def forcing(c,sigma_k):\n",
    "    return c*sigma_k**2"
   ]
  },
  {
   "cell_type": "code",
   "execution_count": 11,
   "metadata": {},
   "outputs": [],
   "source": [
    "def euclidean_projectionx(x, max_norm=10):\n",
    "    return np.clip(x, -max_norm, max_norm)\n",
    "\n",
    "def euclidean_projectiony(point):\n",
    "    return(point)\n",
    "\n",
    "def direct_search(func,x_0,c,T,lamda,sigma_0,sigma_max ):\n",
    "    sigma = np.zeros(T+1)\n",
    "    sigma[0] = sigma_0\n",
    "    x = np.zeros((len(x_0),T+1))\n",
    "    x[:,0] = x_0\n",
    "    f_calls = 0\n",
    "    for k in range(T):\n",
    "        x_nom = generate_points(x[:,k],sigma[k])\n",
    "        x_chosen, a,fc = choose_xn(x_nom, func)\n",
    "        b = func(x[:,k]) - forcing(c,sigma[k])\n",
    "        f_calls = f_calls + fc\n",
    "        if a < b:\n",
    "            x[:,k+1] = x_chosen\n",
    "            sigma[k+1] = np.min([sigma_max, lamda*sigma[k]])\n",
    "        else:\n",
    "            x[:,k+1] = x[:,k]\n",
    "            sigma[k+1] = sigma[k] / lamda\n",
    "\n",
    "    return x[:,k+1], f_calls\n",
    "\n",
    "def one_step_direct_search(func,x_0,c,lamda,sigma_0,sigma_max ):\n",
    "    sigma = np.min([sigma_max, lamda*sigma_0])\n",
    "    f_calls = 0\n",
    "    while True:\n",
    "        x = x_0\n",
    "        x_nom = generate_points(x_0,sigma)\n",
    "        x_chosen, a,fc = choose_xn(x_nom, func)\n",
    "        b = func(x_0) - forcing(c,sigma)\n",
    "        f_calls = f_calls + fc\n",
    "        if a < b:\n",
    "            x = x_chosen\n",
    "            break\n",
    "        else:\n",
    "            sigma = sigma/lamda\n",
    "    return x,sigma, f_calls"
   ]
  },
  {
   "cell_type": "code",
   "execution_count": 12,
   "metadata": {},
   "outputs": [],
   "source": [
    "def fix_variable(f, value, variable):\n",
    "    if variable == 'x':\n",
    "        def new_function(y):\n",
    "            return -f(value, y)\n",
    "    elif variable == 'y':\n",
    "        def new_function(x):\n",
    "            return f(x, value)\n",
    "\n",
    "    return new_function\n",
    "\n",
    "def minimax_direct_search(func, x_0,y_0,c,T,lamda,sigma_0,sigma_max ):\n",
    "    sigma = np.zeros(T+1)\n",
    "    sigma[0] = sigma_0\n",
    "    x = np.zeros((len(x_0),T+1))\n",
    "    x[:,0] = x_0 \n",
    "    y = np.zeros((len(y_0),T+1))\n",
    "    y[:,0] = y_0 \n",
    "    f_calls = np.zeros((1,T+1))\n",
    "    for k in range(1,T+1):\n",
    "        func1 = fix_variable(func,x[:,k-1],'x')\n",
    "        yk,fc1 = direct_search(func1,y[:,k-1],c,5,lamda,sigma[k-1],sigma_max )\n",
    "        y[:,k] = euclidean_projectiony (yk)\n",
    "        func2 = fix_variable(func,y[:,k],'y')\n",
    "        xk,sigma[k],fc2 = one_step_direct_search(func2,x[:,k-1],c,lamda,sigma[k-1],sigma_max )\n",
    "        x[:,k] = euclidean_projectionx(xk)\n",
    "        f_calls[:,k] = fc1+fc2\n",
    "    return x,y,f_calls"
   ]
  },
  {
   "cell_type": "markdown",
   "metadata": {},
   "source": [
    "Code for Psioning Attack problem. The results here will be used in Low_dim.ipynb file for comparison."
   ]
  },
  {
   "cell_type": "code",
   "execution_count": null,
   "metadata": {},
   "outputs": [],
   "source": [
    "def calculate_accuracy(T, T_new):\n",
    "    num_correct = np.sum(T == T_new)\n",
    "    accuracy = num_correct / len(T)\n",
    "    return accuracy\n",
    "# Define the logistic function\n",
    "def logistic_function(z, theta):\n",
    "    return 1 / (1 + np.exp(-np.dot(z, theta)))\n",
    "\n",
    "# Define the loss function for training set D_train\n",
    "def h(x, theta, D):\n",
    "    loss = 0\n",
    "    for z, t in D:\n",
    "        h_x = logistic_function(z + x, theta)\n",
    "        loss += t * np.log(h_x) + (1 - t) * np.log(1 - h_x)\n",
    "    return -loss / len(D)\n",
    "\n",
    "def objective(x, theta):\n",
    "    F_tr = h(x, theta, D_train_1) + h(np.zeros(n), theta, D_train_2) + 0.001* np.linalg.norm(theta, 2) ** 2\n",
    "    return -F_tr\n",
    "    \n",
    "acc_k = np.zeros((331,20))\n",
    "f_callstotal = []\n",
    "ptime2 = np.zeros(20)\n",
    "for j in range(20):\n",
    "    # Generate the dataset\n",
    "    k = 500\n",
    "    n = 20\n",
    "    poisoning_ratio = 0.15\n",
    "    v = np.random.normal(loc=0, scale=1e-3, size=k)\n",
    "    Z = np.random.multivariate_normal(mean=np.zeros(n), cov=np.eye(n), size=k)\n",
    "    Theta_ast = np.random.normal(size=n)\n",
    "    T = np.where(1 / (1 + np.exp(-(np.dot(Z, Theta_ast) + v))) >= 0.5, 1, 0)\n",
    "\n",
    "    # Split the dataset into training and testing sets\n",
    "    D_train = list(zip(Z[:int(k*0.7)], T[:int(k*0.7)]))\n",
    "    poisoning_size = int(len(D_train) * poisoning_ratio)\n",
    "    D_train_1 = D_train[:poisoning_size]\n",
    "    D_train_2 = D_train[poisoning_size:]\n",
    "    D_test = list(zip(Z[int(k*0.7):], T[int(k*0.7):]))\n",
    "\n",
    "    x_init = np.zeros(n)*0.1\n",
    "    theta_init = Theta_ast\n",
    "    eps = 0.01\n",
    "    xt = np.zeros(n)\n",
    "    yt = np.zeros(n)\n",
    "    c = 1\n",
    "    T0 = 330\n",
    "    lamda = 1.5\n",
    "    sigma_0 = 1e-3\n",
    "    sigma_max = 5e-1\n",
    "    start = time.time()\n",
    "    xt,yt, f_callst=minimax_direct_search(objective,x_init,theta_init,c,T0,lamda,sigma_0,sigma_max )\n",
    "    end = time.time()\n",
    "    ptime2[j] = end - start\n",
    "    # Calculate the accuracy\n",
    "    accuracy3 =  np.zeros(np.shape(yt)[1])\n",
    "    for i in range (np.shape(yt)[1]):\n",
    "        T_new = np.where(1 / (1 + np.exp(-(np.dot(Z[int(k*0.7):], yt[:,i]) + v[int(k*0.7):]))) >= 0.5, 1, 0)\n",
    "        accuracy3[i] = calculate_accuracy(T[int(k*0.7):], T_new)\n",
    "    acc_k[:,j] = accuracy3\n",
    "    f_callstotal.append(f_callst)\n",
    "\n",
    "ptime_avg2 = np.mean(ptime2)"
   ]
  },
  {
   "cell_type": "code",
   "execution_count": 33,
   "metadata": {},
   "outputs": [
    {
     "data": {
      "text/plain": [
       "(20, 1, 331)"
      ]
     },
     "execution_count": 33,
     "metadata": {},
     "output_type": "execute_result"
    }
   ],
   "source": [
    "np.array(f_callstotal).shape\n"
   ]
  },
  {
   "cell_type": "code",
   "execution_count": 32,
   "metadata": {},
   "outputs": [],
   "source": [
    "np.save('acc_kdr.npy', acc_k)\n",
    "np.save('ptime_avg2.npy', ptime_avg2)\n",
    "np.save('f_callstotal.npy',np.array(f_callstotal))"
   ]
  },
  {
   "cell_type": "markdown",
   "metadata": {},
   "source": [
    "Code for Robust Least Square problem. The results here will be used in Low_dim.ipynb file for comparison."
   ]
  },
  {
   "cell_type": "code",
   "execution_count": 70,
   "metadata": {},
   "outputs": [],
   "source": [
    "def euclidean_projectiony(x, max_norm=5):\n",
    "    norm_x = np.linalg.norm(x)\n",
    "    if norm_x > max_norm:\n",
    "        x = x * (max_norm / norm_x)\n",
    "    return x\n",
    "def euclidean_projectionx(point):\n",
    "    return(point)\n",
    "\n",
    "\n",
    "\n",
    "def minimax_direct_search(func, x_0,y_0,c,T,lamda,sigma_0,sigma_max ):\n",
    "    sigma = np.zeros(T+1)\n",
    "    sigma[0] = sigma_0\n",
    "    x = np.zeros((len(x_0),T+1))\n",
    "    x[:,0] = x_0 \n",
    "    y = np.zeros((len(y_0),T+1))\n",
    "    y[:,0] = y_0 \n",
    "    f_calls = []\n",
    "    function_values = []\n",
    "    F_0 = func(x_0,y_0)\n",
    "    function_values.append(F_0)\n",
    "    f_calls.append(0)\n",
    "    for k in range(1,T+1):\n",
    "        func1 = fix_variable(func,x[:,k-1],'x')\n",
    "        y[:,k],fc1 = direct_search(func1,y[:,k-1],c,5,lamda,sigma[k-1],sigma_max )\n",
    "        y[:,k] = euclidean_projectiony(y[:,k])\n",
    "        func2 = fix_variable(func,y[:,k],'y')\n",
    "        x[:,k],sigma[k],fc2 = one_step_direct_search(func2,x[:,k-1],c,lamda,sigma[k-1],sigma_max )\n",
    "        x[:,k] = euclidean_projectionx(x[:,k])\n",
    "        function_value = func(x[:,k], y[:,k])\n",
    "        function_values.append(function_value)\n",
    "        f_calls.append(fc1+fc2)\n",
    "        if function_value <=0.005*F_0:\n",
    "            return function_values,f_calls\n",
    "    return function_values,f_calls"
   ]
  },
  {
   "cell_type": "code",
   "execution_count": 74,
   "metadata": {},
   "outputs": [],
   "source": [
    "etime3 = []\n",
    "fvalues3 = []\n",
    "f_callstotal = []\n",
    "for j in range(10):\n",
    "    start = time.time()\n",
    "    n = 150\n",
    "    m = 250\n",
    "\n",
    "    A = np.random.randn(n, m)\n",
    "    x_star = np.random.randn(m)\n",
    "    epsilon = 0.001 * np.random.randn(n)\n",
    "    y0 = A@x_star + epsilon\n",
    "    x_initial = np.random.randn(m)\n",
    "    y_initial = np.random.randn(n)\n",
    "\n",
    "    def F(x, y):    \n",
    "        return np.linalg.norm(A@x-y0+y)**2\n",
    "\n",
    "    c = 1\n",
    "    T0 = 1500\n",
    "    lamda = 1.5\n",
    "    sigma_0 = 1e-3  \n",
    "    sigma_max = 5e-1\n",
    "    function_values, f_callst=minimax_direct_search(F,x_initial,y_initial,c,T0,lamda,sigma_0,sigma_max )\n",
    "    fvalues3.append(function_values)\n",
    "    end = time.time()\n",
    "    execution_time = end-start\n",
    "    etime3.append(execution_time)\n",
    "    f_callstotal.append(f_callst)\n"
   ]
  },
  {
   "cell_type": "code",
   "execution_count": 77,
   "metadata": {},
   "outputs": [
    {
     "name": "stdout",
     "output_type": "stream",
     "text": [
      "413 413\n"
     ]
    }
   ],
   "source": [
    "print(len(f_callstotal[0]),len(fvalues3[0]))"
   ]
  },
  {
   "cell_type": "code",
   "execution_count": 79,
   "metadata": {},
   "outputs": [],
   "source": [
    "import json\n",
    "with open('fvalues3.json', 'w') as file:\n",
    "    json.dump(fvalues3, file)\n",
    "with open('etime3.json', 'w') as file:\n",
    "    json.dump(etime3, file)\n",
    "with open('f_callstotal_RLS.json', 'w') as file:\n",
    "    json.dump(f_callstotal, file)\n"
   ]
  }
 ],
 "metadata": {
  "kernelspec": {
   "display_name": "Python 3",
   "language": "python",
   "name": "python3"
  },
  "language_info": {
   "codemirror_mode": {
    "name": "ipython",
    "version": 3
   },
   "file_extension": ".py",
   "mimetype": "text/x-python",
   "name": "python",
   "nbconvert_exporter": "python",
   "pygments_lexer": "ipython3",
   "version": "3.10.12"
  },
  "orig_nbformat": 4
 },
 "nbformat": 4,
 "nbformat_minor": 2
}
